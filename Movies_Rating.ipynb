{
 "cells": [
  {
   "cell_type": "markdown",
   "id": "2cfd2782",
   "metadata": {},
   "source": [
    "# Analyzing the rating given by viewers of a movie helps many people decide whether or not to watch that movie. So, for the Movie Rating Analysis task, you first need to have a dataset that contains data about the ratings given by each viewer.This contains two files:\n",
    "\n",
    "# one file contains the data about the movie Id, title and the genre of the movie \n",
    "# and the other file contains the user id, movie id, ratings given by the user and the timestamp of the ratings"
   ]
  },
  {
   "cell_type": "markdown",
   "id": "1bcbfd51",
   "metadata": {},
   "source": [
    "#### Importing required libraries"
   ]
  },
  {
   "cell_type": "code",
   "execution_count": 1,
   "id": "e1b92d8d",
   "metadata": {},
   "outputs": [],
   "source": [
    "import numpy as np\n",
    "import pandas as pd"
   ]
  },
  {
   "cell_type": "markdown",
   "id": "8e306b47",
   "metadata": {},
   "source": [
    "#### First thing is to read the csv files "
   ]
  },
  {
   "cell_type": "code",
   "execution_count": 2,
   "id": "ba528cb4",
   "metadata": {},
   "outputs": [
    {
     "name": "stderr",
     "output_type": "stream",
     "text": [
      "C:\\Users\\User\\AppData\\Local\\Temp\\ipykernel_3856\\964883835.py:1: ParserWarning: Falling back to the 'python' engine because the 'c' engine does not support regex separators (separators > 1 char and different from '\\s+' are interpreted as regex); you can avoid this warning by specifying engine='python'.\n",
      "  movies=pd.read_csv('movies.dat',delimiter='::')\n"
     ]
    },
    {
     "data": {
      "text/html": [
       "<div>\n",
       "<style scoped>\n",
       "    .dataframe tbody tr th:only-of-type {\n",
       "        vertical-align: middle;\n",
       "    }\n",
       "\n",
       "    .dataframe tbody tr th {\n",
       "        vertical-align: top;\n",
       "    }\n",
       "\n",
       "    .dataframe thead th {\n",
       "        text-align: right;\n",
       "    }\n",
       "</style>\n",
       "<table border=\"1\" class=\"dataframe\">\n",
       "  <thead>\n",
       "    <tr style=\"text-align: right;\">\n",
       "      <th></th>\n",
       "      <th>0000008</th>\n",
       "      <th>Edison Kinetoscopic Record of a Sneeze (1894)</th>\n",
       "      <th>Documentary|Short</th>\n",
       "    </tr>\n",
       "  </thead>\n",
       "  <tbody>\n",
       "    <tr>\n",
       "      <th>0</th>\n",
       "      <td>10</td>\n",
       "      <td>La sortie des usines Lumière (1895)</td>\n",
       "      <td>Documentary|Short</td>\n",
       "    </tr>\n",
       "    <tr>\n",
       "      <th>1</th>\n",
       "      <td>12</td>\n",
       "      <td>The Arrival of a Train (1896)</td>\n",
       "      <td>Documentary|Short</td>\n",
       "    </tr>\n",
       "    <tr>\n",
       "      <th>2</th>\n",
       "      <td>25</td>\n",
       "      <td>The Oxford and Cambridge University Boat Race ...</td>\n",
       "      <td>NaN</td>\n",
       "    </tr>\n",
       "    <tr>\n",
       "      <th>3</th>\n",
       "      <td>91</td>\n",
       "      <td>Le manoir du diable (1896)</td>\n",
       "      <td>Short|Horror</td>\n",
       "    </tr>\n",
       "    <tr>\n",
       "      <th>4</th>\n",
       "      <td>131</td>\n",
       "      <td>Une nuit terrible (1896)</td>\n",
       "      <td>Short|Comedy|Horror</td>\n",
       "    </tr>\n",
       "  </tbody>\n",
       "</table>\n",
       "</div>"
      ],
      "text/plain": [
       "   0000008      Edison Kinetoscopic Record of a Sneeze (1894)  \\\n",
       "0       10                La sortie des usines Lumière (1895)   \n",
       "1       12                      The Arrival of a Train (1896)   \n",
       "2       25  The Oxford and Cambridge University Boat Race ...   \n",
       "3       91                         Le manoir du diable (1896)   \n",
       "4      131                           Une nuit terrible (1896)   \n",
       "\n",
       "     Documentary|Short  \n",
       "0    Documentary|Short  \n",
       "1    Documentary|Short  \n",
       "2                  NaN  \n",
       "3         Short|Horror  \n",
       "4  Short|Comedy|Horror  "
      ]
     },
     "execution_count": 2,
     "metadata": {},
     "output_type": "execute_result"
    }
   ],
   "source": [
    "movies=pd.read_csv('movies.dat',delimiter='::')\n",
    "movies.head()"
   ]
  },
  {
   "cell_type": "markdown",
   "id": "151b0014",
   "metadata": {},
   "source": [
    "#### Add the columns names to the table"
   ]
  },
  {
   "cell_type": "code",
   "execution_count": 3,
   "id": "15ca9ec9",
   "metadata": {},
   "outputs": [
    {
     "name": "stdout",
     "output_type": "stream",
     "text": [
      "    ID                                              Title                Genre\n",
      "0   10                La sortie des usines Lumière (1895)    Documentary|Short\n",
      "1   12                      The Arrival of a Train (1896)    Documentary|Short\n",
      "2   25  The Oxford and Cambridge University Boat Race ...                  NaN\n",
      "3   91                         Le manoir du diable (1896)         Short|Horror\n",
      "4  131                           Une nuit terrible (1896)  Short|Comedy|Horror\n"
     ]
    }
   ],
   "source": [
    "movies.columns = [\"ID\", \"Title\", \"Genre\"]\n",
    "print(movies.head())"
   ]
  },
  {
   "cell_type": "code",
   "execution_count": 4,
   "id": "730d0949",
   "metadata": {},
   "outputs": [
    {
     "name": "stderr",
     "output_type": "stream",
     "text": [
      "C:\\Users\\User\\AppData\\Local\\Temp\\ipykernel_3856\\2424788758.py:1: ParserWarning: Falling back to the 'python' engine because the 'c' engine does not support regex separators (separators > 1 char and different from '\\s+' are interpreted as regex); you can avoid this warning by specifying engine='python'.\n",
      "  ratings=pd.read_csv('ratings.dat',delimiter='::')\n"
     ]
    },
    {
     "data": {
      "text/html": [
       "<div>\n",
       "<style scoped>\n",
       "    .dataframe tbody tr th:only-of-type {\n",
       "        vertical-align: middle;\n",
       "    }\n",
       "\n",
       "    .dataframe tbody tr th {\n",
       "        vertical-align: top;\n",
       "    }\n",
       "\n",
       "    .dataframe thead th {\n",
       "        text-align: right;\n",
       "    }\n",
       "</style>\n",
       "<table border=\"1\" class=\"dataframe\">\n",
       "  <thead>\n",
       "    <tr style=\"text-align: right;\">\n",
       "      <th></th>\n",
       "      <th>1</th>\n",
       "      <th>0114508</th>\n",
       "      <th>8</th>\n",
       "      <th>1381006850</th>\n",
       "    </tr>\n",
       "  </thead>\n",
       "  <tbody>\n",
       "    <tr>\n",
       "      <th>0</th>\n",
       "      <td>2</td>\n",
       "      <td>499549</td>\n",
       "      <td>9</td>\n",
       "      <td>1376753198</td>\n",
       "    </tr>\n",
       "    <tr>\n",
       "      <th>1</th>\n",
       "      <td>2</td>\n",
       "      <td>1305591</td>\n",
       "      <td>8</td>\n",
       "      <td>1376742507</td>\n",
       "    </tr>\n",
       "    <tr>\n",
       "      <th>2</th>\n",
       "      <td>2</td>\n",
       "      <td>1428538</td>\n",
       "      <td>1</td>\n",
       "      <td>1371307089</td>\n",
       "    </tr>\n",
       "    <tr>\n",
       "      <th>3</th>\n",
       "      <td>3</td>\n",
       "      <td>75314</td>\n",
       "      <td>1</td>\n",
       "      <td>1595468524</td>\n",
       "    </tr>\n",
       "    <tr>\n",
       "      <th>4</th>\n",
       "      <td>3</td>\n",
       "      <td>102926</td>\n",
       "      <td>9</td>\n",
       "      <td>1590148016</td>\n",
       "    </tr>\n",
       "  </tbody>\n",
       "</table>\n",
       "</div>"
      ],
      "text/plain": [
       "   1  0114508  8  1381006850\n",
       "0  2   499549  9  1376753198\n",
       "1  2  1305591  8  1376742507\n",
       "2  2  1428538  1  1371307089\n",
       "3  3    75314  1  1595468524\n",
       "4  3   102926  9  1590148016"
      ]
     },
     "execution_count": 4,
     "metadata": {},
     "output_type": "execute_result"
    }
   ],
   "source": [
    "ratings=pd.read_csv('ratings.dat',delimiter='::')\n",
    "ratings.head()"
   ]
  },
  {
   "cell_type": "code",
   "execution_count": 5,
   "id": "2c5530b2",
   "metadata": {},
   "outputs": [
    {
     "name": "stdout",
     "output_type": "stream",
     "text": [
      "   User       ID  Ratings   Timestamp\n",
      "0     2   499549        9  1376753198\n",
      "1     2  1305591        8  1376742507\n",
      "2     2  1428538        1  1371307089\n",
      "3     3    75314        1  1595468524\n",
      "4     3   102926        9  1590148016\n"
     ]
    }
   ],
   "source": [
    "ratings.columns = [\"User\", \"ID\", \"Ratings\", \"Timestamp\"]\n",
    "print(ratings.head())"
   ]
  },
  {
   "cell_type": "markdown",
   "id": "31407c17",
   "metadata": {},
   "source": [
    "#### Concatinating the two files"
   ]
  },
  {
   "cell_type": "code",
   "execution_count": 6,
   "id": "e362eeee",
   "metadata": {},
   "outputs": [],
   "source": [
    "data=movies.merge(ratings,how=\"left\", on=\"ID\")"
   ]
  },
  {
   "cell_type": "code",
   "execution_count": 7,
   "id": "37bdc2a7",
   "metadata": {},
   "outputs": [
    {
     "data": {
      "text/html": [
       "<div>\n",
       "<style scoped>\n",
       "    .dataframe tbody tr th:only-of-type {\n",
       "        vertical-align: middle;\n",
       "    }\n",
       "\n",
       "    .dataframe tbody tr th {\n",
       "        vertical-align: top;\n",
       "    }\n",
       "\n",
       "    .dataframe thead th {\n",
       "        text-align: right;\n",
       "    }\n",
       "</style>\n",
       "<table border=\"1\" class=\"dataframe\">\n",
       "  <thead>\n",
       "    <tr style=\"text-align: right;\">\n",
       "      <th></th>\n",
       "      <th>ID</th>\n",
       "      <th>Title</th>\n",
       "      <th>Genre</th>\n",
       "      <th>User</th>\n",
       "      <th>Ratings</th>\n",
       "      <th>Timestamp</th>\n",
       "    </tr>\n",
       "  </thead>\n",
       "  <tbody>\n",
       "    <tr>\n",
       "      <th>0</th>\n",
       "      <td>10</td>\n",
       "      <td>La sortie des usines Lumière (1895)</td>\n",
       "      <td>Documentary|Short</td>\n",
       "      <td>70577</td>\n",
       "      <td>10</td>\n",
       "      <td>1412878553</td>\n",
       "    </tr>\n",
       "    <tr>\n",
       "      <th>1</th>\n",
       "      <td>12</td>\n",
       "      <td>The Arrival of a Train (1896)</td>\n",
       "      <td>Documentary|Short</td>\n",
       "      <td>69535</td>\n",
       "      <td>10</td>\n",
       "      <td>1439248579</td>\n",
       "    </tr>\n",
       "    <tr>\n",
       "      <th>2</th>\n",
       "      <td>25</td>\n",
       "      <td>The Oxford and Cambridge University Boat Race ...</td>\n",
       "      <td>NaN</td>\n",
       "      <td>37628</td>\n",
       "      <td>8</td>\n",
       "      <td>1488189899</td>\n",
       "    </tr>\n",
       "    <tr>\n",
       "      <th>3</th>\n",
       "      <td>91</td>\n",
       "      <td>Le manoir du diable (1896)</td>\n",
       "      <td>Short|Horror</td>\n",
       "      <td>5814</td>\n",
       "      <td>6</td>\n",
       "      <td>1385233195</td>\n",
       "    </tr>\n",
       "    <tr>\n",
       "      <th>4</th>\n",
       "      <td>91</td>\n",
       "      <td>Le manoir du diable (1896)</td>\n",
       "      <td>Short|Horror</td>\n",
       "      <td>37239</td>\n",
       "      <td>5</td>\n",
       "      <td>1532347349</td>\n",
       "    </tr>\n",
       "  </tbody>\n",
       "</table>\n",
       "</div>"
      ],
      "text/plain": [
       "   ID                                              Title              Genre  \\\n",
       "0  10                La sortie des usines Lumière (1895)  Documentary|Short   \n",
       "1  12                      The Arrival of a Train (1896)  Documentary|Short   \n",
       "2  25  The Oxford and Cambridge University Boat Race ...                NaN   \n",
       "3  91                         Le manoir du diable (1896)       Short|Horror   \n",
       "4  91                         Le manoir du diable (1896)       Short|Horror   \n",
       "\n",
       "    User  Ratings   Timestamp  \n",
       "0  70577       10  1412878553  \n",
       "1  69535       10  1439248579  \n",
       "2  37628        8  1488189899  \n",
       "3   5814        6  1385233195  \n",
       "4  37239        5  1532347349  "
      ]
     },
     "execution_count": 7,
     "metadata": {},
     "output_type": "execute_result"
    }
   ],
   "source": [
    "data.head()"
   ]
  },
  {
   "cell_type": "markdown",
   "id": "8311ceaf",
   "metadata": {},
   "source": [
    "#### It counts the particular column values present in the table"
   ]
  },
  {
   "cell_type": "code",
   "execution_count": 8,
   "id": "5484a71a",
   "metadata": {},
   "outputs": [
    {
     "data": {
      "text/plain": [
       "8     219311\n",
       "7     203476\n",
       "9     128749\n",
       "6     118323\n",
       "10    107284\n",
       "5      68458\n",
       "4      27779\n",
       "3      15258\n",
       "1      10663\n",
       "2       9053\n",
       "0        278\n",
       "Name: Ratings, dtype: int64"
      ]
     },
     "execution_count": 8,
     "metadata": {},
     "output_type": "execute_result"
    }
   ],
   "source": [
    "rating = data[\"Ratings\"].value_counts().sort_values(ascending=False)\n",
    "rating"
   ]
  },
  {
   "cell_type": "markdown",
   "id": "20de8ab8",
   "metadata": {},
   "source": [
    "#### Graphical visualization of 'rating'"
   ]
  },
  {
   "cell_type": "code",
   "execution_count": 9,
   "id": "caf046bd",
   "metadata": {},
   "outputs": [
    {
     "data": {
      "image/png": "[encoded data removed]",
      "text/plain": [
       "<Figure size 432x288 with 1 Axes>"
      ]
     },
     "metadata": {},
     "output_type": "display_data"
    }
   ],
   "source": [
    "import matplotlib.pyplot as plt\n",
    "indexes=rating.index\n",
    "values=rating.values\n",
    "plt.style.use('ggplot')\n",
    "explode=[0,0,0,0,0,0,0,0,0,0.2,0.4]\n",
    "plt.title(\"Pie Chart\")\n",
    "plt.pie(values,labels=indexes,autopct='%.2f%%',pctdistance=0.8,explode=explode)\n",
    "plt.legend(loc='center left', bbox_to_anchor=(1.2, 0.5))\n",
    "plt.savefig('piechart.png')\n",
    "plt.show()"
   ]
  },
  {
   "cell_type": "markdown",
   "id": "42455057",
   "metadata": {},
   "source": [
    "#### according to the pie chart above, most movies are rated 8 by users. From the above figure, it can be said that most of the movies are rated positively."
   ]
  },
  {
   "cell_type": "code",
   "execution_count": 10,
   "id": "26afa50c",
   "metadata": {},
   "outputs": [
    {
     "data": {
      "text/html": [
       "<div>\n",
       "<style scoped>\n",
       "    .dataframe tbody tr th:only-of-type {\n",
       "        vertical-align: middle;\n",
       "    }\n",
       "\n",
       "    .dataframe tbody tr th {\n",
       "        vertical-align: top;\n",
       "    }\n",
       "\n",
       "    .dataframe thead th {\n",
       "        text-align: right;\n",
       "    }\n",
       "</style>\n",
       "<table border=\"1\" class=\"dataframe\">\n",
       "  <thead>\n",
       "    <tr style=\"text-align: right;\">\n",
       "      <th></th>\n",
       "      <th>ID</th>\n",
       "      <th>Title</th>\n",
       "      <th>Genre</th>\n",
       "      <th>User</th>\n",
       "      <th>Ratings</th>\n",
       "      <th>Timestamp</th>\n",
       "    </tr>\n",
       "  </thead>\n",
       "  <tbody>\n",
       "    <tr>\n",
       "      <th>0</th>\n",
       "      <td>10</td>\n",
       "      <td>La sortie des usines Lumière (1895)</td>\n",
       "      <td>Documentary|Short</td>\n",
       "      <td>70577</td>\n",
       "      <td>10</td>\n",
       "      <td>1412878553</td>\n",
       "    </tr>\n",
       "    <tr>\n",
       "      <th>1</th>\n",
       "      <td>12</td>\n",
       "      <td>The Arrival of a Train (1896)</td>\n",
       "      <td>Documentary|Short</td>\n",
       "      <td>69535</td>\n",
       "      <td>10</td>\n",
       "      <td>1439248579</td>\n",
       "    </tr>\n",
       "    <tr>\n",
       "      <th>2</th>\n",
       "      <td>25</td>\n",
       "      <td>The Oxford and Cambridge University Boat Race ...</td>\n",
       "      <td>NaN</td>\n",
       "      <td>37628</td>\n",
       "      <td>8</td>\n",
       "      <td>1488189899</td>\n",
       "    </tr>\n",
       "    <tr>\n",
       "      <th>3</th>\n",
       "      <td>91</td>\n",
       "      <td>Le manoir du diable (1896)</td>\n",
       "      <td>Short|Horror</td>\n",
       "      <td>5814</td>\n",
       "      <td>6</td>\n",
       "      <td>1385233195</td>\n",
       "    </tr>\n",
       "    <tr>\n",
       "      <th>4</th>\n",
       "      <td>91</td>\n",
       "      <td>Le manoir du diable (1896)</td>\n",
       "      <td>Short|Horror</td>\n",
       "      <td>37239</td>\n",
       "      <td>5</td>\n",
       "      <td>1532347349</td>\n",
       "    </tr>\n",
       "  </tbody>\n",
       "</table>\n",
       "</div>"
      ],
      "text/plain": [
       "   ID                                              Title              Genre  \\\n",
       "0  10                La sortie des usines Lumière (1895)  Documentary|Short   \n",
       "1  12                      The Arrival of a Train (1896)  Documentary|Short   \n",
       "2  25  The Oxford and Cambridge University Boat Race ...                NaN   \n",
       "3  91                         Le manoir du diable (1896)       Short|Horror   \n",
       "4  91                         Le manoir du diable (1896)       Short|Horror   \n",
       "\n",
       "    User  Ratings   Timestamp  \n",
       "0  70577       10  1412878553  \n",
       "1  69535       10  1439248579  \n",
       "2  37628        8  1488189899  \n",
       "3   5814        6  1385233195  \n",
       "4  37239        5  1532347349  "
      ]
     },
     "execution_count": 10,
     "metadata": {},
     "output_type": "execute_result"
    }
   ],
   "source": [
    "data.head()"
   ]
  },
  {
   "cell_type": "markdown",
   "id": "5e6ea2d1",
   "metadata": {},
   "source": [
    "#### Top 10 movies that got 10 ratings by viewers:"
   ]
  },
  {
   "cell_type": "code",
   "execution_count": 11,
   "id": "c6a65a1d",
   "metadata": {},
   "outputs": [
    {
     "data": {
      "text/plain": [
       "Joker (2019)                       1479\n",
       "Interstellar (2014)                1386\n",
       "1917 (2019)                         820\n",
       "Avengers: Endgame (2019)            812\n",
       "The Shawshank Redemption (1994)     707\n",
       "Gravity (2013)                      653\n",
       "The Wolf of Wall Street (2013)      581\n",
       "Hacksaw Ridge (2016)                570\n",
       "Avengers: Infinity War (2018)       535\n",
       "La La Land (2016)                   510\n",
       "Name: Title, dtype: int64"
      ]
     },
     "execution_count": 11,
     "metadata": {},
     "output_type": "execute_result"
    }
   ],
   "source": [
    "highest_rating_movies=data[data['Ratings'] == 10]['Title'].value_counts()\n",
    "highest_rating_movies.head(10)"
   ]
  }
 ],
 "metadata": {
  "kernelspec": {
   "display_name": "Python 3 (ipykernel)",
   "language": "python",
   "name": "python3"
  },
  "language_info": {
   "codemirror_mode": {
    "name": "ipython",
    "version": 3
   },
   "file_extension": ".py",
   "mimetype": "text/x-python",
   "name": "python",
   "nbconvert_exporter": "python",
   "pygments_lexer": "ipython3",
   "version": "3.8.10"
  }
 },
 "nbformat": 4,
 "nbformat_minor": 5
}
